{
 "cells": [
  {
   "cell_type": "markdown",
   "metadata": {
    "slideshow": {
     "slide_type": "slide"
    }
   },
   "source": [
    "![sql](img/sql-logo.jpg)\n",
    "\n",
    "# A beginner's guide to databases, SQL, & using them with `pandas`"
   ]
  },
  {
   "cell_type": "markdown",
   "metadata": {
    "slideshow": {
     "slide_type": "slide"
    }
   },
   "source": [
    "**Scenario:** You are a data analyst for the Homeland Security, trying to create reports on the active airports world wide. The data you need to access is in a SQL database. YOu need to be able to query for the data in a database!"
   ]
  },
  {
   "cell_type": "markdown",
   "metadata": {
    "slideshow": {
     "slide_type": "slide"
    }
   },
   "source": [
    "## Learning goals:\n",
    "- Goal 1: Summarize the use case for sql in the data science skill set\n",
    "- Goal 2: Define key sql terminology\n",
    "- Goal 3: Get information about DB schema and table structure\n",
    "- Goal 4: Use basic SQL commands:\n",
    "    - Construct SQL queries\n",
    "    - Use `JOIN` to merge tables along logical columns\n",
    "    - Grouping Data with SQL, inlcuding `HAVING`\n",
    "- Goal 5: Convert SQL to pandas"
   ]
  },
  {
   "cell_type": "markdown",
   "metadata": {
    "slideshow": {
     "slide_type": "slide"
    }
   },
   "source": [
    "## Goal 1: Summarize\n",
    "\n",
    "To date the data we've seen has looked like [this.](https://data.austintexas.gov/Health-and-Community-Services/Austin-Animal-Center-Intakes/wter-evkm)\n",
    "\n",
    "That is how we need data to look to run analysis and build models.<br>\n",
    "But it doesn't _live_ there in it's native state."
   ]
  },
  {
   "cell_type": "markdown",
   "metadata": {
    "slideshow": {
     "slide_type": "slide"
    }
   },
   "source": [
    "[Netflix has a great article](https://medium.com/netflix-techblog/notebook-innovation-591ee3221233) describing three different data roles at their company, their different needs, and their toolsets.\n",
    "\n",
    "![netflix](img/netflix-data-roles.jpeg)\n",
    "\n",
    "Examining that graphic, SQL shows up as one of the tools of the _Data Engineer_ "
   ]
  },
  {
   "cell_type": "markdown",
   "metadata": {
    "slideshow": {
     "slide_type": "slide"
    }
   },
   "source": [
    "Data Engineers provide the essential data architecture services that make data science possible.\n",
    "\n",
    "![hierarchy](img/ai-hierachy.png)\n",
    "\n",
    "[Source: Monica Rogati’s fantastic Medium post “The AI Hierarchy of Needs”\n",
    "](https://hackernoon.com/the-ai-hierarchy-of-needs-18f111fcc007)"
   ]
  },
  {
   "cell_type": "markdown",
   "metadata": {},
   "source": [
    "## What does it mean to **Engineer Data**?\n",
    "\n",
    "Let's start with a basic scenario:<br>\n",
    "You are HR. You have *no* current database. \n",
    "How would you set it up?\n",
    "\n",
    "Data needs considerations:\n",
    "- What you want to store\n",
    "- What \"views\" you anticipate wanting in the future\n",
    "\n",
    "Structure considerations:\n",
    "- Speed of retrieval\n",
    "- How much data you are accessing\n",
    "- How much you are storing"
   ]
  },
  {
   "cell_type": "markdown",
   "metadata": {
    "slideshow": {
     "slide_type": "slide"
    }
   },
   "source": [
    "![etl](img/etl.png)\n",
    "\n",
    "[img source: Jeff Hammerbacher’s slide from UC Berkeley CS 194 course ](https://bcourses.berkeley.edu/courses/1377158/pages/cs-194-16-introduction-to-data-science-fall-2015)"
   ]
  },
  {
   "cell_type": "markdown",
   "metadata": {
    "slideshow": {
     "slide_type": "slide"
    }
   },
   "source": [
    "### What is a Relational Database? \n",
    "\n",
    "![rdb](img/relational-dbms-model.png)\n",
    "[reference for image ](https://www.studytonight.com/dbms/database-model.php)"
   ]
  },
  {
   "cell_type": "markdown",
   "metadata": {
    "slideshow": {
     "slide_type": "slide"
    }
   },
   "source": [
    "### POPULAR RDBMS\n",
    "\n",
    "- SQLite\n",
    "- MySQL\n",
    "- PostgreSql\n",
    "- Oracle DB\n",
    "- SQL Server"
   ]
  },
  {
   "cell_type": "markdown",
   "metadata": {},
   "source": [
    "***\n",
    "### SQL Readings\n",
    "\n",
    "[History of SQL](https://www.businessnewsdaily.com/5804-what-is-sql.html)\n",
    "\n",
    "[The original SQL paper from the 1970s.](https://www.seas.upenn.edu/~zives/03f/cis550/codd.pdf)"
   ]
  },
  {
   "cell_type": "markdown",
   "metadata": {
    "slideshow": {
     "slide_type": "slide"
    }
   },
   "source": [
    "***\n",
    "## Goal 2: Database terminology\n",
    "\n",
    "### Relational Database Schema\n",
    "\n",
    "![schema](img/MySQL_Schema_Music_Example.png)\n",
    "\n",
    "[source of image](https://database.guide/what-is-a-database-schema/)"
   ]
  },
  {
   "cell_type": "markdown",
   "metadata": {
    "slideshow": {
     "slide_type": "slide"
    }
   },
   "source": [
    "***\n",
    "### SQLite\n",
    "\n",
    "<img src=\"img/SQLite-Python.jpg\" width=500>\n",
    "\n",
    "- C library (fast)\n",
    "- lightweight disk-based database\n",
    "- that doesn’t require a separate server process\n",
    "- nonstandard variant of the SQL query language\n",
    "- applications can use SQLite for internal data storage\n",
    "- use case: prototype an application using SQLite and then port the code to a larger database such as PostgreSQL or Oracle\n",
    "\n",
    "[sqlite documentation](https://docs.python.org/2/library/sqlite3.html)\n",
    "\n"
   ]
  },
  {
   "cell_type": "markdown",
   "metadata": {
    "slideshow": {
     "slide_type": "slide"
    }
   },
   "source": [
    "## But what about connecting to database servers?\n",
    "\n",
    "To connect to other database types there are many different libraries:\n",
    "- Oracle: [cx_Oracle](https://oracle.github.io/python-cx_Oracle/)\n",
    "- MySQL: [MySQL-python](https://github.com/farcepest/MySQLdb1)\n",
    "- PostgreSQL: [Psycopg2](http://initd.org/psycopg/docs/)\n",
    "- Microsoft SQL Server: [pymssql](http://www.pymssql.org/en/stable/)\n",
    "\n",
    "These all implement [PEP 249: DB API v2](https://www.python.org/dev/peps/pep-0249/)"
   ]
  },
  {
   "cell_type": "markdown",
   "metadata": {
    "slideshow": {
     "slide_type": "slide"
    }
   },
   "source": [
    "## Goal 3: Get going with sqlite!"
   ]
  },
  {
   "cell_type": "code",
   "execution_count": 1,
   "metadata": {
    "slideshow": {
     "slide_type": "fragment"
    }
   },
   "outputs": [],
   "source": [
    "import sqlite3"
   ]
  },
  {
   "cell_type": "markdown",
   "metadata": {
    "slideshow": {
     "slide_type": "slide"
    }
   },
   "source": [
    "#### Load a DB object with `connect` and `cursor`"
   ]
  },
  {
   "cell_type": "code",
   "execution_count": 2,
   "metadata": {
    "slideshow": {
     "slide_type": "fragment"
    }
   },
   "outputs": [],
   "source": [
    "con = sqlite3.connect('data/flights.db')\n",
    "cursor = con.cursor()"
   ]
  },
  {
   "cell_type": "markdown",
   "metadata": {
    "slideshow": {
     "slide_type": "slide"
    }
   },
   "source": [
    "#### Use sqlite_master to find all the tables in the schema\n",
    "Get the schema of a database from a db in sqlite"
   ]
  },
  {
   "cell_type": "code",
   "execution_count": 3,
   "metadata": {},
   "outputs": [
    {
     "name": "stdout",
     "output_type": "stream",
     "text": [
      "[('airports',), ('airlines',), ('routes',)]\n"
     ]
    }
   ],
   "source": [
    "cursor.execute(\"SELECT name FROM sqlite_master WHERE type='table';\")\n",
    "print(cursor.fetchall())"
   ]
  },
  {
   "cell_type": "code",
   "execution_count": 4,
   "metadata": {},
   "outputs": [
    {
     "data": {
      "text/plain": [
       "(('name', None, None, None, None, None, None),)"
      ]
     },
     "execution_count": 4,
     "metadata": {},
     "output_type": "execute_result"
    }
   ],
   "source": [
    "cursor.description"
   ]
  },
  {
   "cell_type": "code",
   "execution_count": 5,
   "metadata": {},
   "outputs": [
    {
     "name": "stdout",
     "output_type": "stream",
     "text": [
      "[('airports', 'table'), ('ix_airports_index', 'index'), ('airlines', 'table'), ('ix_airlines_index', 'index'), ('routes', 'table'), ('ix_routes_index', 'index')]\n"
     ]
    }
   ],
   "source": [
    "cursor.execute(\"SELECT name, type FROM sqlite_master;\")\n",
    "print(cursor.fetchall())"
   ]
  },
  {
   "cell_type": "code",
   "execution_count": 6,
   "metadata": {},
   "outputs": [
    {
     "name": "stdout",
     "output_type": "stream",
     "text": [
      "('table', 'airports', 'airports', 2, 'CREATE TABLE airports (\\n[index] INTEGER,\\n  [id] TEXT,\\n  [name] TEXT,\\n  [city] TEXT,\\n  [country] TEXT,\\n  [code] TEXT,\\n  [icao] TEXT,\\n  [latitude] TEXT,\\n  [longitude] TEXT,\\n  [altitude] TEXT,\\n  [offset] TEXT,\\n  [dst] TEXT,\\n  [timezone] TEXT\\n)')\n",
      "('index', 'ix_airports_index', 'airports', 3, 'CREATE INDEX ix_airports_index ON airports ([index])')\n",
      "('table', 'airlines', 'airlines', 945, 'CREATE TABLE airlines (\\n[index] INTEGER,\\n  [id] TEXT,\\n  [name] TEXT,\\n  [alias] TEXT,\\n  [iata] TEXT,\\n  [icao] TEXT,\\n  [callsign] TEXT,\\n  [country] TEXT,\\n  [active] TEXT\\n)')\n",
      "('index', 'ix_airlines_index', 'airlines', 946, 'CREATE INDEX ix_airlines_index ON airlines ([index])')\n",
      "('table', 'routes', 'routes', 1393, 'CREATE TABLE routes (\\n[index] INTEGER,\\n  [airline] TEXT,\\n  [airline_id] TEXT,\\n  [source] TEXT,\\n  [source_id] TEXT,\\n  [dest] TEXT,\\n  [dest_id] TEXT,\\n  [codeshare] TEXT,\\n  [stops] TEXT,\\n  [equipment] TEXT\\n)')\n",
      "('index', 'ix_routes_index', 'routes', 1394, 'CREATE INDEX ix_routes_index ON routes ([index])')\n"
     ]
    }
   ],
   "source": [
    "cursor.execute(\"SELECT * FROM sqlite_master;\")\n",
    "results = cursor.fetchall()\n",
    "for res in results:\n",
    "    print(res)"
   ]
  },
  {
   "cell_type": "markdown",
   "metadata": {
    "slideshow": {
     "slide_type": "slide"
    }
   },
   "source": [
    "#### Get information about one table\n",
    "\n",
    "**A note about** `execute`<br>\n",
    "Each time you use it, you reset the value of cursor"
   ]
  },
  {
   "cell_type": "code",
   "execution_count": 7,
   "metadata": {},
   "outputs": [
    {
     "data": {
      "text/plain": [
       "(0,\n",
       " '1',\n",
       " 'Goroka',\n",
       " 'Goroka',\n",
       " 'Papua New Guinea',\n",
       " 'GKA',\n",
       " 'AYGA',\n",
       " '-6.081689',\n",
       " '145.391881',\n",
       " '5282',\n",
       " '10',\n",
       " 'U',\n",
       " 'Pacific/Port_Moresby')"
      ]
     },
     "execution_count": 7,
     "metadata": {},
     "output_type": "execute_result"
    }
   ],
   "source": [
    "cursor.execute(\"SELECT * FROM airports as a\").fetchone()"
   ]
  },
  {
   "cell_type": "code",
   "execution_count": 9,
   "metadata": {},
   "outputs": [
    {
     "data": {
      "text/plain": [
       "(2,\n",
       " '3',\n",
       " 'Mount Hagen',\n",
       " 'Mount Hagen',\n",
       " 'Papua New Guinea',\n",
       " 'HGU',\n",
       " 'AYMH',\n",
       " '-5.826789',\n",
       " '144.295861',\n",
       " '5388',\n",
       " '10',\n",
       " 'U',\n",
       " 'Pacific/Port_Moresby')"
      ]
     },
     "execution_count": 9,
     "metadata": {},
     "output_type": "execute_result"
    }
   ],
   "source": [
    "cursor.fetchone()"
   ]
  },
  {
   "cell_type": "code",
   "execution_count": null,
   "metadata": {},
   "outputs": [],
   "source": [
    "cursor.fetchmany(4)"
   ]
  },
  {
   "cell_type": "markdown",
   "metadata": {
    "slideshow": {
     "slide_type": "slide"
    }
   },
   "source": [
    "#### Use description"
   ]
  },
  {
   "cell_type": "code",
   "execution_count": null,
   "metadata": {
    "slideshow": {
     "slide_type": "fragment"
    }
   },
   "outputs": [],
   "source": [
    "cursor.description"
   ]
  },
  {
   "cell_type": "markdown",
   "metadata": {
    "slideshow": {
     "slide_type": "slide"
    }
   },
   "source": [
    "#### Or use `Pragma`\n",
    "`Pragma` tool [link here](https://www.sqlite.org/pragma.html#pragma_table_info)\n",
    "\n",
    "**output**<br>\n",
    "`(column id, column name, data type, whether or not the column can be NULL, and the default value for the column)`"
   ]
  },
  {
   "cell_type": "code",
   "execution_count": null,
   "metadata": {
    "slideshow": {
     "slide_type": "slide"
    }
   },
   "outputs": [],
   "source": [
    "cursor.execute(\"PRAGMA table_info(airports)\")\n",
    "info = cursor.fetchall()\n",
    "print(*info, sep = \"\\n\") "
   ]
  },
  {
   "cell_type": "markdown",
   "metadata": {
    "slideshow": {
     "slide_type": "slide"
    }
   },
   "source": [
    "#### Making fetch happen\n",
    "\n",
    "`.fetchall()` is how you get the query results out of the object.\n",
    "\n",
    "You can also `.fetchone()` or `.fetchmany()`"
   ]
  },
  {
   "cell_type": "markdown",
   "metadata": {
    "slideshow": {
     "slide_type": "slide"
    }
   },
   "source": [
    "**Task:** Get the descriptive data for airlines and routes tables"
   ]
  },
  {
   "cell_type": "code",
   "execution_count": 10,
   "metadata": {},
   "outputs": [
    {
     "name": "stdout",
     "output_type": "stream",
     "text": [
      "(0, 'index', 'INTEGER', 0, None, 0)\n",
      "(1, 'id', 'TEXT', 0, None, 0)\n",
      "(2, 'name', 'TEXT', 0, None, 0)\n",
      "(3, 'alias', 'TEXT', 0, None, 0)\n",
      "(4, 'iata', 'TEXT', 0, None, 0)\n",
      "(5, 'icao', 'TEXT', 0, None, 0)\n",
      "(6, 'callsign', 'TEXT', 0, None, 0)\n",
      "(7, 'country', 'TEXT', 0, None, 0)\n",
      "(8, 'active', 'TEXT', 0, None, 0)\n"
     ]
    }
   ],
   "source": [
    "cursor.execute(\"PRAGMA table_info(airlines)\")\n",
    "info = cursor.fetchall()\n",
    "print(*info, sep = \"\\n\")"
   ]
  },
  {
   "cell_type": "code",
   "execution_count": 14,
   "metadata": {},
   "outputs": [
    {
     "name": "stdout",
     "output_type": "stream",
     "text": [
      "(0, 'index', 'INTEGER', 0, None, 0)\n",
      "(1, 'airline', 'TEXT', 0, None, 0)\n",
      "(2, 'airline_id', 'TEXT', 0, None, 0)\n",
      "(3, 'source', 'TEXT', 0, None, 0)\n",
      "(4, 'source_id', 'TEXT', 0, None, 0)\n",
      "(5, 'dest', 'TEXT', 0, None, 0)\n",
      "(6, 'dest_id', 'TEXT', 0, None, 0)\n",
      "(7, 'codeshare', 'TEXT', 0, None, 0)\n",
      "(8, 'stops', 'TEXT', 0, None, 0)\n",
      "(9, 'equipment', 'TEXT', 0, None, 0)\n"
     ]
    }
   ],
   "source": [
    "cursor.execute(\"PRAGMA table_info(routes)\")\n",
    "info = cursor.fetchall()\n",
    "print(*info, sep = \"\\n\")"
   ]
  },
  {
   "cell_type": "markdown",
   "metadata": {
    "slideshow": {
     "slide_type": "slide"
    }
   },
   "source": [
    "***\n",
    "## Goal 4: Use basic SQL commands "
   ]
  },
  {
   "cell_type": "markdown",
   "metadata": {
    "slideshow": {
     "slide_type": "slide"
    }
   },
   "source": [
    "### The Structure of a SQL Query"
   ]
  },
  {
   "cell_type": "markdown",
   "metadata": {
    "slideshow": {
     "slide_type": "slide"
    }
   },
   "source": [
    "<img src='img/sql_statement.jpg'/>"
   ]
  },
  {
   "cell_type": "markdown",
   "metadata": {
    "slideshow": {
     "slide_type": "slide"
    }
   },
   "source": [
    "### Constructing SQL queries"
   ]
  },
  {
   "cell_type": "markdown",
   "metadata": {
    "slideshow": {
     "slide_type": "fragment"
    }
   },
   "source": [
    "**`SELECT`**:  The columns you want\n",
    "  - options: `DISTINCT`, using `AS` to rename columns, single number aggregates"
   ]
  },
  {
   "cell_type": "markdown",
   "metadata": {
    "slideshow": {
     "slide_type": "fragment"
    }
   },
   "source": [
    "**`FROM`:** the source tables\n",
    "  - options: also uses aliasing with `AS`; joining with `[LEFT|INNER|RIGHT|FULL] JOIN ___ [ON|USING]`"
   ]
  },
  {
   "cell_type": "markdown",
   "metadata": {
    "slideshow": {
     "slide_type": "fragment"
    }
   },
   "source": [
    "**`WHERE`**: your filters\n",
    "  - options: comparators like `=` & `>=`; `BETWEEN`, `IN`, `LIKE` (with wildcards `%`); booleans like `AND`, `OR`, `NOT`"
   ]
  },
  {
   "cell_type": "markdown",
   "metadata": {
    "slideshow": {
     "slide_type": "fragment"
    }
   },
   "source": [
    "**`ORDER BY`**: sorting\n",
    "  - options: `ASC` (default) and `DESC`"
   ]
  },
  {
   "cell_type": "markdown",
   "metadata": {
    "slideshow": {
     "slide_type": "fragment"
    }
   },
   "source": [
    "**`LIMIT`**:  # of rows to return (pair with `OFFSET`)"
   ]
  },
  {
   "cell_type": "markdown",
   "metadata": {
    "slideshow": {
     "slide_type": "slide"
    }
   },
   "source": [
    "**Task**: \n",
    "- Select only active airlines in the UK from the airlines table\n",
    "- Select the unique list of countries with airports"
   ]
  },
  {
   "cell_type": "code",
   "execution_count": 18,
   "metadata": {},
   "outputs": [
    {
     "name": "stdout",
     "output_type": "stream",
     "text": [
      "('AD Aviation',)\n",
      "('Air Cudlua',)\n",
      "('Air Foyle',)\n",
      "('Air Southwest',)\n",
      "('Air Wales',)\n",
      "('All Europe',)\n",
      "('Astraeus',)\n",
      "('Aurigny Air Services',)\n",
      "('BA CityFlyer',)\n",
      "('BBN-Airways',)\n",
      "('bmi',)\n",
      "('bmibaby',)\n",
      "('British Airways',)\n",
      "('British International Helicopters',)\n",
      "('British Mediterranean Airways',)\n",
      "('British Midland Regional',)\n",
      "('CB Airways UK ( Interliging Flights )',)\n",
      "('Crest Aviation',)\n",
      "('Eastern Airways',)\n",
      "('easyJet',)\n",
      "('Excel Airways',)\n",
      "('Excel Charter',)\n",
      "('First Choice Airways',)\n",
      "('Flightline',)\n",
      "('Flybe',)\n",
      "('Flyglobespan',)\n",
      "('GB Airways',)\n",
      "('Highland Airways',)\n",
      "('Jc royal.britannica',)\n",
      "('Jet2.com',)\n",
      "('Kinloss Flying Training Unit',)\n",
      "('Monarch Airlines',)\n",
      "('MyTravel Airways',)\n",
      "('Norfolk County Flight College',)\n",
      "('Rainbow Air Euro',)\n",
      "('Royal European Airlines',)\n",
      "('ScotAirways',)\n",
      "('Thomas Cook Airlines',)\n",
      "('Thomsonfly',)\n",
      "('Virgin Atlantic Airways',)\n"
     ]
    }
   ],
   "source": [
    "cursor.execute(\"\"\" SELECT name \n",
    "FROM airlines \n",
    "WHERE active = 'Y' and country = 'United Kingdom'\n",
    "ORDER BY lower(name) ASC\n",
    "\"\"\")\n",
    "print (*cursor.fetchall(), sep ='\\n')"
   ]
  },
  {
   "cell_type": "code",
   "execution_count": 19,
   "metadata": {},
   "outputs": [
    {
     "data": {
      "text/plain": [
       "[('Afghanistan', 21),\n",
       " ('Albania', 1),\n",
       " ('Algeria', 44),\n",
       " ('American Samoa', 3),\n",
       " ('Angola', 26),\n",
       " ('Anguilla', 1),\n",
       " ('Antarctica', 19),\n",
       " ('Antigua and Barbuda', 2),\n",
       " ('Argentina', 103),\n",
       " ('Armenia', 4),\n",
       " ('Aruba', 1),\n",
       " ('Australia', 263),\n",
       " ('Austria', 29),\n",
       " ('Azerbaijan', 11),\n",
       " ('Bahamas', 37),\n",
       " ('Bahrain', 2),\n",
       " ('Bangladesh', 13),\n",
       " ('Barbados', 1),\n",
       " ('Belarus', 9),\n",
       " ('Belgium', 34),\n",
       " ('Belize', 12),\n",
       " ('Benin', 1),\n",
       " ('Bermuda', 2),\n",
       " ('Bhutan', 1),\n",
       " ('Bolivia', 27),\n",
       " ('Bosnia and Herzegovina', 4),\n",
       " ('Botswana', 29),\n",
       " ('Brazil', 213),\n",
       " ('British Indian Ocean Territory', 1),\n",
       " ('British Virgin Islands', 2),\n",
       " ('Brunei', 3),\n",
       " ('Bulgaria', 7),\n",
       " ('Burkina Faso', 2),\n",
       " ('Burma', 43),\n",
       " ('Burundi', 1),\n",
       " ('Cambodia', 13),\n",
       " ('Cameroon', 10),\n",
       " ('Canada', 435),\n",
       " ('Cape Verde', 7),\n",
       " ('Cayman Islands', 3),\n",
       " ('Central African Republic', 3),\n",
       " ('Chad', 7),\n",
       " ('Chile', 38),\n",
       " ('China', 219),\n",
       " ('Christmas Island', 1),\n",
       " ('Cocos (Keeling) Islands', 1),\n",
       " ('Colombia', 72),\n",
       " ('Comoros', 4),\n",
       " ('Congo (Brazzaville)', 3),\n",
       " ('Congo (Kinshasa)', 36),\n",
       " ('Cook Islands', 8),\n",
       " ('Costa Rica', 29),\n",
       " (\"Cote d'Ivoire\", 7),\n",
       " ('Croatia', 14),\n",
       " ('Cuba', 30),\n",
       " ('Cyprus', 5),\n",
       " ('Czech Republic', 27),\n",
       " ('Denmark', 28),\n",
       " ('Djibouti', 3),\n",
       " ('Dominica', 3),\n",
       " ('Dominican Republic', 14),\n",
       " ('East Timor', 3),\n",
       " ('Ecuador', 38),\n",
       " ('Egypt', 25),\n",
       " ('El Salvador', 2),\n",
       " ('Equatorial Guinea', 2),\n",
       " ('Eritrea', 3),\n",
       " ('Estonia', 9),\n",
       " ('Ethiopia', 32),\n",
       " ('Falkland Islands', 5),\n",
       " ('Faroe Islands', 3),\n",
       " ('Fiji', 17),\n",
       " ('Finland', 51),\n",
       " ('France', 233),\n",
       " ('French Guiana', 22),\n",
       " ('French Polynesia', 36),\n",
       " ('Gabon', 14),\n",
       " ('Gambia', 1),\n",
       " ('Georgia', 5),\n",
       " ('Germany', 321),\n",
       " ('Ghana', 6),\n",
       " ('Gibraltar', 1),\n",
       " ('Greece', 60),\n",
       " ('Greenland', 29),\n",
       " ('Grenada', 3),\n",
       " ('Guadeloupe', 7),\n",
       " ('Guam', 2),\n",
       " ('Guatemala', 10),\n",
       " ('Guernsey', 2),\n",
       " ('Guinea', 6),\n",
       " ('Guinea-Bissau', 2),\n",
       " ('Guyana', 14),\n",
       " ('Haiti', 14),\n",
       " ('Honduras', 11),\n",
       " ('Hong Kong', 13),\n",
       " ('Hungary', 15),\n",
       " ('Iceland', 22),\n",
       " ('India', 140),\n",
       " ('Indonesia', 114),\n",
       " ('Iran', 81),\n",
       " ('Iraq', 10),\n",
       " ('Ireland', 25),\n",
       " ('Isle of Man', 1),\n",
       " ('Israel', 16),\n",
       " ('Italy', 92),\n",
       " ('Jamaica', 7),\n",
       " ('Japan', 131),\n",
       " ('Jersey', 1),\n",
       " ('Johnston Atoll', 1),\n",
       " ('Jordan', 6),\n",
       " ('Kazakhstan', 28),\n",
       " ('Kenya', 55),\n",
       " ('Kiribati', 18),\n",
       " ('Korea', 1),\n",
       " ('Kuwait', 2),\n",
       " ('Kyrgyzstan', 4),\n",
       " ('Laos', 11),\n",
       " ('Latvia', 3),\n",
       " ('Lebanon', 2),\n",
       " ('Lesotho', 3),\n",
       " ('Liberia', 3),\n",
       " ('Libya', 21),\n",
       " ('Lithuania', 8),\n",
       " ('Luxembourg', 1),\n",
       " ('Macau', 4),\n",
       " ('Macedonia', 2),\n",
       " ('Madagascar', 45),\n",
       " ('Malawi', 8),\n",
       " ('Malaysia', 47),\n",
       " ('Maldives', 42),\n",
       " ('Mali', 8),\n",
       " ('Malta', 8),\n",
       " ('Marshall Islands', 32),\n",
       " ('Martinique', 4),\n",
       " ('Mauritania', 10),\n",
       " ('Mauritius', 2),\n",
       " ('Mayotte', 1),\n",
       " ('Mexico', 94),\n",
       " ('Micronesia', 5),\n",
       " ('Midway Islands', 1),\n",
       " ('Moldova', 3),\n",
       " ('Monaco', 1),\n",
       " ('Mongolia', 13),\n",
       " ('Montenegro', 2),\n",
       " ('Montserrat', 2),\n",
       " ('Morocco', 22),\n",
       " ('Mozambique', 22),\n",
       " ('Myanmar', 1),\n",
       " ('Namibia', 19),\n",
       " ('Nauru', 1),\n",
       " ('Nepal', 36),\n",
       " ('Netherlands', 42),\n",
       " ('Netherlands Antilles', 8),\n",
       " ('New Caledonia', 11),\n",
       " ('New Zealand', 56),\n",
       " ('Nicaragua', 11),\n",
       " ('Niger', 7),\n",
       " ('Nigeria', 26),\n",
       " ('Niue', 1),\n",
       " ('Norfolk Island', 1),\n",
       " ('North Korea', 5),\n",
       " ('Northern Mariana Islands', 3),\n",
       " ('Norway', 69),\n",
       " ('Oman', 6),\n",
       " ('Pakistan', 46),\n",
       " ('Palau', 3),\n",
       " ('Palestine', 1),\n",
       " ('Panama', 26),\n",
       " ('Papua New Guinea', 57),\n",
       " ('Paraguay', 8),\n",
       " ('Peru', 43),\n",
       " ('Philippines', 64),\n",
       " ('Poland', 34),\n",
       " ('Portugal', 39),\n",
       " ('Puerto Rico', 15),\n",
       " ('Qatar', 3),\n",
       " ('Reunion', 10),\n",
       " ('Romania', 26),\n",
       " ('Russia', 249),\n",
       " ('Rwanda', 3),\n",
       " ('Saint Helena', 1),\n",
       " ('Saint Kitts and Nevis', 3),\n",
       " ('Saint Lucia', 3),\n",
       " ('Saint Pierre and Miquelon', 2),\n",
       " ('Saint Vincent and the Grenadines', 5),\n",
       " ('Samoa', 4),\n",
       " ('Sao Tome and Principe', 2),\n",
       " ('Saudi Arabia', 42),\n",
       " ('Senegal', 9),\n",
       " ('Serbia', 4),\n",
       " ('Seychelles', 11),\n",
       " ('Sierra Leone', 8),\n",
       " ('Singapore', 6),\n",
       " ('Slovakia', 10),\n",
       " ('Slovenia', 5),\n",
       " ('Solomon Islands', 27),\n",
       " ('Somalia', 11),\n",
       " ('South Africa', 103),\n",
       " ('South Georgia and the Islands', 2),\n",
       " ('South Korea', 31),\n",
       " ('South Sudan', 2),\n",
       " ('Spain', 84),\n",
       " ('Sri Lanka', 15),\n",
       " ('Sudan', 18),\n",
       " ('Suriname', 23),\n",
       " ('Svalbard', 4),\n",
       " ('Swaziland', 1),\n",
       " ('Sweden', 86),\n",
       " ('Switzerland', 53),\n",
       " ('Syria', 6),\n",
       " ('Taiwan', 32),\n",
       " ('Tajikistan', 5),\n",
       " ('Tanzania', 27),\n",
       " ('Thailand', 58),\n",
       " ('Togo', 2),\n",
       " ('Tonga', 6),\n",
       " ('Trinidad and Tobago', 2),\n",
       " ('Tunisia', 13),\n",
       " ('Turkey', 77),\n",
       " ('Turkmenistan', 8),\n",
       " ('Turks and Caicos Islands', 6),\n",
       " ('Tuvalu', 1),\n",
       " ('Uganda', 9),\n",
       " ('Ukraine', 33),\n",
       " ('United Arab Emirates', 19),\n",
       " ('United Kingdom', 210),\n",
       " ('United States', 1697),\n",
       " ('Uruguay', 13),\n",
       " ('Uzbekistan', 12),\n",
       " ('Vanuatu', 29),\n",
       " ('Venezuela', 58),\n",
       " ('Vietnam', 30),\n",
       " ('Virgin Islands', 8),\n",
       " ('Wake Island', 1),\n",
       " ('Wallis and Futuna', 2),\n",
       " ('West Bank', 1),\n",
       " ('Western Sahara', 3),\n",
       " ('Yemen', 11),\n",
       " ('Zambia', 13),\n",
       " ('Zimbabwe', 16)]"
      ]
     },
     "execution_count": 19,
     "metadata": {},
     "output_type": "execute_result"
    }
   ],
   "source": [
    "cursor.execute(\"\"\"  SELECT country, count(*) as airport_count\n",
    "                    FROM airports\n",
    "                    GROUP BY country\n",
    "                    ORDER BY 1 \"\"\")\n",
    "cursor.fetchall()"
   ]
  },
  {
   "cell_type": "markdown",
   "metadata": {
    "slideshow": {
     "slide_type": "slide"
    }
   },
   "source": [
    "### SQL Joins"
   ]
  },
  {
   "cell_type": "markdown",
   "metadata": {
    "slideshow": {
     "slide_type": "fragment"
    }
   },
   "source": [
    "SQL joins can be used to both **add** data to a table and **remove** data from a table. "
   ]
  },
  {
   "cell_type": "markdown",
   "metadata": {
    "slideshow": {
     "slide_type": "fragment"
    }
   },
   "source": [
    "<img src=\"img/venn.png\" width=550>"
   ]
  },
  {
   "cell_type": "markdown",
   "metadata": {
    "slideshow": {
     "slide_type": "slide"
    }
   },
   "source": [
    "**Task** Write a query that will join the latitude and longitude data from the airports table to the information on the routes table"
   ]
  },
  {
   "cell_type": "code",
   "execution_count": null,
   "metadata": {
    "slideshow": {
     "slide_type": "skip"
    }
   },
   "outputs": [],
   "source": [
    "cursor.execute(\"\"\"\n",
    "SELECT *\n",
    "FROM airports\n",
    "\"\"\")\n",
    "print(*cursor.description, sep='\\n')"
   ]
  },
  {
   "cell_type": "markdown",
   "metadata": {
    "slideshow": {
     "slide_type": "slide"
    }
   },
   "source": [
    "### Grouping statements\n",
    "\n",
    "Combines `select` and `group by` when you want aggregates by values"
   ]
  },
  {
   "cell_type": "markdown",
   "metadata": {
    "slideshow": {
     "slide_type": "fragment"
    }
   },
   "source": [
    "`select` `min(x)` ... `max()`, `sum()`, etc"
   ]
  },
  {
   "cell_type": "markdown",
   "metadata": {
    "slideshow": {
     "slide_type": "fragment"
    }
   },
   "source": [
    "`group by x`"
   ]
  },
  {
   "cell_type": "markdown",
   "metadata": {
    "slideshow": {
     "slide_type": "slide"
    }
   },
   "source": [
    "**Task**<br>\n",
    "- Which countries have the highest amount of active airlines?\n",
    "- Which countries have the highest amount of inactive airlines?\n",
    "- What about airports by timezones?"
   ]
  },
  {
   "cell_type": "code",
   "execution_count": null,
   "metadata": {
    "slideshow": {
     "slide_type": "skip"
    }
   },
   "outputs": [],
   "source": [
    "# Which countries have the highest amount of active airports?\n",
    "cursor.execute(\"\"\"\n",
    "-- your code here;\n",
    "\"\"\")\n",
    "print(*cursor.fetchall(), sep='\\n')"
   ]
  },
  {
   "cell_type": "code",
   "execution_count": null,
   "metadata": {
    "slideshow": {
     "slide_type": "skip"
    }
   },
   "outputs": [],
   "source": [
    "# Which countries have the highest amount of inactive airports?\n",
    "cursor.execute(\"\"\"\n",
    "-- your code here;\n",
    "\"\"\")\n",
    "print(*cursor.fetchall(), sep='\\n')"
   ]
  },
  {
   "cell_type": "code",
   "execution_count": null,
   "metadata": {
    "slideshow": {
     "slide_type": "skip"
    }
   },
   "outputs": [],
   "source": [
    "# What about airports by timezones?\n",
    "cursor.execute(\"\"\"\n",
    "-- your code here;\"\"\")\n",
    "print(*cursor.fetchall(), sep='\\n')"
   ]
  },
  {
   "cell_type": "code",
   "execution_count": null,
   "metadata": {},
   "outputs": [],
   "source": [
    "# It's always a good idea to close our connections when we're done\n",
    "cursor.close()\n",
    "con.close()"
   ]
  },
  {
   "cell_type": "markdown",
   "metadata": {
    "slideshow": {
     "slide_type": "slide"
    }
   },
   "source": [
    "## Goal 5: Transfering from sqlite to pandas"
   ]
  },
  {
   "cell_type": "code",
   "execution_count": null,
   "metadata": {
    "slideshow": {
     "slide_type": "fragment"
    }
   },
   "outputs": [],
   "source": [
    "pd_con = sqlite3.connect(\"flights.db\")\n",
    "df = pd.read_sql_query(\"select * from airports limit 5;\", pd_con)\n",
    "df"
   ]
  },
  {
   "cell_type": "markdown",
   "metadata": {
    "slideshow": {
     "slide_type": "slide"
    }
   },
   "source": [
    "**Task**: \n",
    "Convert one of the earlier queries in the lesson to a pandas data frame"
   ]
  },
  {
   "cell_type": "code",
   "execution_count": null,
   "metadata": {},
   "outputs": [],
   "source": [
    "# Which countries have the highest amount of active airports?\n",
    "sql = '''\n",
    "-- YOUR CODE HERE\n",
    "'''\n",
    "pd.read_sql_query(sql, conn)"
   ]
  },
  {
   "cell_type": "code",
   "execution_count": null,
   "metadata": {},
   "outputs": [],
   "source": [
    "pd_con.close()"
   ]
  },
  {
   "cell_type": "markdown",
   "metadata": {
    "slideshow": {
     "slide_type": "slide"
    }
   },
   "source": [
    "## Bonus: SQL-like querying in Pandas\n",
    "\n",
    "`.query()`\n",
    "\n",
    "[query documentation](https://pandas.pydata.org/pandas-docs/stable/reference/api/pandas.DataFrame.query.html)"
   ]
  },
  {
   "cell_type": "code",
   "execution_count": null,
   "metadata": {
    "slideshow": {
     "slide_type": "slide"
    }
   },
   "outputs": [],
   "source": [
    "# Get data for an example\n",
    "import pandas as pd\n",
    "shelter_data=pd.read_csv('https://data.austintexas.gov/api/views/9t4d-g238/rows.csv?accessType=DOWNLOAD')"
   ]
  },
  {
   "cell_type": "code",
   "execution_count": null,
   "metadata": {
    "slideshow": {
     "slide_type": "slide"
    }
   },
   "outputs": [],
   "source": [
    "max_data = shelter_data.query('Name == \"Max\"')\n",
    "max_data.head()\n"
   ]
  },
  {
   "cell_type": "code",
   "execution_count": null,
   "metadata": {},
   "outputs": [],
   "source": [
    "#vs\n",
    "shelter_data[shelter_data['Name']==\"Max\"].head()"
   ]
  },
  {
   "cell_type": "code",
   "execution_count": null,
   "metadata": {
    "slideshow": {
     "slide_type": "slide"
    }
   },
   "outputs": [],
   "source": [
    "shelter_data.query('`Animal Type` == \"Dog\"').head()"
   ]
  },
  {
   "cell_type": "code",
   "execution_count": null,
   "metadata": {},
   "outputs": [],
   "source": []
  }
 ],
 "metadata": {
  "kernelspec": {
   "display_name": "Python 3",
   "language": "python",
   "name": "python3"
  },
  "language_info": {
   "codemirror_mode": {
    "name": "ipython",
    "version": 3
   },
   "file_extension": ".py",
   "mimetype": "text/x-python",
   "name": "python",
   "nbconvert_exporter": "python",
   "pygments_lexer": "ipython3",
   "version": "3.7.6"
  }
 },
 "nbformat": 4,
 "nbformat_minor": 4
}
