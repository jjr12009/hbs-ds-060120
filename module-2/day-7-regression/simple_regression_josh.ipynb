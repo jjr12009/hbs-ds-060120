{
 "cells": [
  {
   "cell_type": "markdown",
   "metadata": {},
   "source": [
    "# Introduction to Simple Linear Regression\n",
    "\n",
    "\n",
    "## Learning Objectives and outcomes\n",
    "\n",
    "- Introduction of linear regression in a simple setting.\n",
    "\n",
    "- Basic assumptions of the model.\n",
    "\n",
    "- Terminology - 'intercept', 'coefficient'.\n",
    "\n",
    "- The Least Squares method.\n",
    "    \n",
    "- Implement linear regression in sklearn and statsmodels"
   ]
  },
  {
   "cell_type": "code",
   "execution_count": 1,
   "metadata": {},
   "outputs": [],
   "source": [
    "import pandas as pd\n",
    "import numpy as np\n",
    "import matplotlib.pyplot as plt\n",
    "%matplotlib inline"
   ]
  },
  {
   "cell_type": "code",
   "execution_count": 2,
   "metadata": {},
   "outputs": [
    {
     "name": "stdout",
     "output_type": "stream",
     "text": [
      "\"\",\"TV\",\"Radio\",\"Newspaper\",\"Sales\"\n",
      "\"1\",230.1,37.8,69.2,22.1\n",
      "\"2\",44.5,39.3,45.1,10.4\n",
      "\"3\",17.2,45.9,69.3,9.3\n",
      "\"4\",151.5,41.3,58.5,18.5\n",
      "\"5\",180.8,10.8,58.4,12.9\n",
      "\"6\",8.7,48.9,75,7.2\n",
      "\"7\",57.5,32.8,23.5,11.8\n",
      "\"8\",120.2,19.6,11.6,13.2\n",
      "\"9\",8.6,2.1,1,4.8\n"
     ]
    }
   ],
   "source": [
    "!head data/Advertising.csv"
   ]
  },
  {
   "cell_type": "code",
   "execution_count": 4,
   "metadata": {},
   "outputs": [
    {
     "name": "stdout",
     "output_type": "stream",
     "text": [
      "(200, 2)\n"
     ]
    },
    {
     "data": {
      "text/html": [
       "<div>\n",
       "<style scoped>\n",
       "    .dataframe tbody tr th:only-of-type {\n",
       "        vertical-align: middle;\n",
       "    }\n",
       "\n",
       "    .dataframe tbody tr th {\n",
       "        vertical-align: top;\n",
       "    }\n",
       "\n",
       "    .dataframe thead th {\n",
       "        text-align: right;\n",
       "    }\n",
       "</style>\n",
       "<table border=\"1\" class=\"dataframe\">\n",
       "  <thead>\n",
       "    <tr style=\"text-align: right;\">\n",
       "      <th></th>\n",
       "      <th>TV</th>\n",
       "      <th>Sales</th>\n",
       "    </tr>\n",
       "  </thead>\n",
       "  <tbody>\n",
       "    <tr>\n",
       "      <th>1</th>\n",
       "      <td>230.1</td>\n",
       "      <td>22.1</td>\n",
       "    </tr>\n",
       "    <tr>\n",
       "      <th>2</th>\n",
       "      <td>44.5</td>\n",
       "      <td>10.4</td>\n",
       "    </tr>\n",
       "    <tr>\n",
       "      <th>3</th>\n",
       "      <td>17.2</td>\n",
       "      <td>9.3</td>\n",
       "    </tr>\n",
       "    <tr>\n",
       "      <th>4</th>\n",
       "      <td>151.5</td>\n",
       "      <td>18.5</td>\n",
       "    </tr>\n",
       "    <tr>\n",
       "      <th>5</th>\n",
       "      <td>180.8</td>\n",
       "      <td>12.9</td>\n",
       "    </tr>\n",
       "  </tbody>\n",
       "</table>\n",
       "</div>"
      ],
      "text/plain": [
       "      TV  Sales\n",
       "1  230.1   22.1\n",
       "2   44.5   10.4\n",
       "3   17.2    9.3\n",
       "4  151.5   18.5\n",
       "5  180.8   12.9"
      ]
     },
     "execution_count": 4,
     "metadata": {},
     "output_type": "execute_result"
    }
   ],
   "source": [
    "# read data to a dataframe\n",
    "data = pd.read_csv('data/Advertising.csv',\n",
    "                   index_col=0)[['TV', 'Sales']]\n",
    "\n",
    "print(data.shape)\n",
    "data.head()"
   ]
  },
  {
   "cell_type": "markdown",
   "metadata": {},
   "source": [
    "Note that TV is dollars in thousands and sales are in thousands of units too."
   ]
  },
  {
   "cell_type": "code",
   "execution_count": 42,
   "metadata": {},
   "outputs": [
    {
     "ename": "NameError",
     "evalue": "name 'draw_line' is not defined",
     "output_type": "error",
     "traceback": [
      "\u001b[1;31m---------------------------------------------------------------------------\u001b[0m",
      "\u001b[1;31mNameError\u001b[0m                                 Traceback (most recent call last)",
      "\u001b[1;32m<ipython-input-42-fd99d32cad7f>\u001b[0m in \u001b[0;36m<module>\u001b[1;34m\u001b[0m\n\u001b[0;32m      1\u001b[0m \u001b[1;31m# plot data\u001b[0m\u001b[1;33m\u001b[0m\u001b[1;33m\u001b[0m\u001b[1;33m\u001b[0m\u001b[0m\n\u001b[0;32m      2\u001b[0m \u001b[0mdata\u001b[0m\u001b[1;33m.\u001b[0m\u001b[0mplot\u001b[0m\u001b[1;33m(\u001b[0m\u001b[0mkind\u001b[0m\u001b[1;33m=\u001b[0m\u001b[1;34m'scatter'\u001b[0m\u001b[1;33m,\u001b[0m \u001b[0mx\u001b[0m\u001b[1;33m=\u001b[0m\u001b[1;34m'TV'\u001b[0m\u001b[1;33m,\u001b[0m \u001b[0my\u001b[0m\u001b[1;33m=\u001b[0m\u001b[1;34m'Sales'\u001b[0m\u001b[1;33m)\u001b[0m\u001b[1;33m\u001b[0m\u001b[1;33m\u001b[0m\u001b[0m\n\u001b[1;32m----> 3\u001b[1;33m \u001b[0mdraw_line\u001b[0m\u001b[1;33m(\u001b[0m\u001b[1;33m)\u001b[0m\u001b[1;33m\u001b[0m\u001b[1;33m\u001b[0m\u001b[0m\n\u001b[0m\u001b[0;32m      4\u001b[0m \u001b[0mplt\u001b[0m\u001b[1;33m.\u001b[0m\u001b[0mshow\u001b[0m\u001b[1;33m(\u001b[0m\u001b[1;33m)\u001b[0m\u001b[1;33m\u001b[0m\u001b[1;33m\u001b[0m\u001b[0m\n",
      "\u001b[1;31mNameError\u001b[0m: name 'draw_line' is not defined"
     ]
    },
    {
     "data": {
      "image/png": "[encoded data removed]",
      "text/plain": [
       "<Figure size 432x288 with 1 Axes>"
      ]
     },
     "metadata": {
      "needs_background": "light"
     },
     "output_type": "display_data"
    }
   ],
   "source": [
    "# plot data\n",
    "data.plot(kind='scatter', x='TV', y='Sales')\n",
    "draw_line()\n",
    "plt.show()"
   ]
  },
  {
   "cell_type": "code",
   "execution_count": 7,
   "metadata": {},
   "outputs": [
    {
     "data": {
      "text/plain": [
       "<seaborn.axisgrid.FacetGrid at 0x2691d00c188>"
      ]
     },
     "execution_count": 7,
     "metadata": {},
     "output_type": "execute_result"
    },
    {
     "data": {
      "image/png": "[encoded data removed]",
      "text/plain": [
       "<Figure size 360x360 with 1 Axes>"
      ]
     },
     "metadata": {
      "needs_background": "light"
     },
     "output_type": "display_data"
    }
   ],
   "source": [
    "import seaborn as sns\n",
    "sns.lmplot(x='TV',y='Sales',data=data)"
   ]
  },
  {
   "cell_type": "code",
   "execution_count": 8,
   "metadata": {},
   "outputs": [],
   "source": [
    "# Let's discuss very briefly the notation we will be using\n",
    "\n",
    "# We usually represent independent variables (input variables) with X:\n",
    "\n",
    "X = data.TV\n",
    "\n",
    "# similarly the dependent variable with y:\n",
    "\n",
    "y = data.Sales"
   ]
  },
  {
   "cell_type": "code",
   "execution_count": null,
   "metadata": {},
   "outputs": [],
   "source": [
    "display(data.head(3))\n",
    "\n",
    "print(X[3], y[3])"
   ]
  },
  {
   "cell_type": "markdown",
   "metadata": {},
   "source": [
    "Recall that a line equation on the plane can be written as: \n",
    "\n",
    "$$ y = m\\cdot x + b$$"
   ]
  },
  {
   "cell_type": "code",
   "execution_count": 9,
   "metadata": {},
   "outputs": [],
   "source": [
    "# this function will make a y prediction for y (sales)\n",
    "# given x (TV) and fixed m (slope) and b (intercept)\n",
    "\n",
    "def predict_y(m=1, x=2, b=1):\n",
    "    return m*x + b"
   ]
  },
  {
   "cell_type": "markdown",
   "metadata": {},
   "source": [
    "__Your Turn__\n",
    "\n",
    "Suppose m = 0.04 and b = 7:\n",
    "\n",
    "- Find y if x = 230.1\n",
    "\n",
    "- Find y if x = 44.5\n",
    "\n",
    "- Find y if x = 17.2"
   ]
  },
  {
   "cell_type": "code",
   "execution_count": 12,
   "metadata": {},
   "outputs": [
    {
     "data": {
      "text/plain": [
       "16.204"
      ]
     },
     "execution_count": 12,
     "metadata": {},
     "output_type": "execute_result"
    }
   ],
   "source": [
    "predict_y(x=230.1,m=.04,b=7)"
   ]
  },
  {
   "cell_type": "code",
   "execution_count": 13,
   "metadata": {},
   "outputs": [],
   "source": [
    "X = data.head(3).TV"
   ]
  },
  {
   "cell_type": "code",
   "execution_count": 14,
   "metadata": {},
   "outputs": [
    {
     "data": {
      "text/plain": [
       "1    230.1\n",
       "2     44.5\n",
       "3     17.2\n",
       "Name: TV, dtype: float64"
      ]
     },
     "execution_count": 14,
     "metadata": {},
     "output_type": "execute_result"
    }
   ],
   "source": [
    "X"
   ]
  },
  {
   "cell_type": "code",
   "execution_count": 17,
   "metadata": {},
   "outputs": [
    {
     "data": {
      "text/plain": [
       "1    16.204\n",
       "2     8.780\n",
       "3     7.688\n",
       "Name: TV, dtype: float64"
      ]
     },
     "execution_count": 17,
     "metadata": {},
     "output_type": "execute_result"
    }
   ],
   "source": [
    "predict_y(m=0.04, x=X, b=7)"
   ]
  },
  {
   "cell_type": "code",
   "execution_count": null,
   "metadata": {},
   "outputs": [],
   "source": [
    "def draw_line(X, y, intercept=7, slope=0.04, xlabel='Tv Advertisements',\n",
    "              ylabel='Sales', title='A prediction for Sales'):\n",
    "    \"\"\"\n",
    "    draws a line with given intercept and slope together with given data.\n",
    "    parameters:\n",
    "    X: array\n",
    "    y: array\n",
    "    intercept: float, preferably between 5 and 9 in this case\n",
    "    slope: float, preferably between 0.02 and 0.08\n",
    "    xlabel: str, label of the x-axis in the figure.\n",
    "    ylabel: str, label of the y-axis in the figure.\n",
    "    return: a figure with data and a regression line with given intercept and slope.\n",
    "    \"\"\"\n",
    "    # find the predicted values. These points lie on the line with\n",
    "    # given slope and intecept\n",
    "    y_pred = intercept + slope * X\n",
    "\n",
    "    # create a new figure and set the figure size\n",
    "    plt.figure(figsize=(10, 8))\n",
    "\n",
    "    # plot data points as scatter\n",
    "    plt.scatter(x=X, y=y)\n",
    "\n",
    "    # plot the prediction line\n",
    "    plt.plot(X, y_pred, c='r', label='Regression Line')\n",
    "\n",
    "    plt.ylim(bottom=1)\n",
    "\n",
    "    # set labels\n",
    "    plt.xlabel(xlabel)\n",
    "    plt.ylabel(ylabel)\n",
    "\n",
    "    # set the title of the figure\n",
    "    plt.title(title)\n",
    "\n",
    "    plt.legend()\n",
    "    plt.show()\n",
    "    return"
   ]
  },
  {
   "cell_type": "code",
   "execution_count": null,
   "metadata": {},
   "outputs": [],
   "source": [
    "tv = data.TV.values\n",
    "sales = data.Sales.values\n",
    "draw_line(tv, sales, intercept=7.03, slope=0.06)"
   ]
  },
  {
   "cell_type": "markdown",
   "metadata": {},
   "source": [
    "## Assumptions\n",
    "\n",
    "* Assume $\\mbox{Sales} \\approx \\mbox{TV}$  linearly.\n",
    "\n",
    "* There is an initial value (baseline) of the Sales. \n",
    "\n",
    "* Data might not be fit on a line but the errors are random."
   ]
  },
  {
   "cell_type": "code",
   "execution_count": null,
   "metadata": {},
   "outputs": [],
   "source": [
    "# Sometimes linearity assumption is too strict\n",
    "\n",
    "expr_x = np.linspace(-5, 5, 100)\n",
    "y = expr_x**2 + 2\n",
    "draw_line(expr_x, y, intercept=10, slope=3,\n",
    "          xlabel='',\n",
    "          ylabel='',\n",
    "          title='Regression line for quadratic data')"
   ]
  },
  {
   "cell_type": "code",
   "execution_count": null,
   "metadata": {},
   "outputs": [],
   "source": [
    "X = np.linspace(-1, 1, 100)"
   ]
  },
  {
   "cell_type": "code",
   "execution_count": null,
   "metadata": {},
   "outputs": [],
   "source": [
    "errors = np.random.normal(loc=0, scale=1, size=100)"
   ]
  },
  {
   "cell_type": "code",
   "execution_count": null,
   "metadata": {},
   "outputs": [],
   "source": [
    "plt.hist(errors)"
   ]
  },
  {
   "cell_type": "code",
   "execution_count": null,
   "metadata": {},
   "outputs": [],
   "source": [
    "plt.scatter(X, errors)\n",
    "plt.hlines(y=0, xmin=-1, xmax=1)\n",
    "plt.show()"
   ]
  },
  {
   "cell_type": "markdown",
   "metadata": {},
   "source": [
    "## Model  - Single Variable Case\n",
    "\n",
    "- In simple linear regression we assume that if we would have population of both X and y variables then we would see the following relation:\n",
    "\n",
    "$$ Y = \\beta_{0} + \\beta X + \\epsilon$$\n",
    " \n",
    "- $ \\beta_{0}, \\beta$ are parameters of the model and called the intercept and coefficient of the linear model respectively. \n",
    "\n",
    "- $\\epsilon$ is the irreducible error term. Depend on the problem at hand we might assume that these errors are coming from measurement mistakes, personal beliefs, recording errors, etc.\n",
    "\n",
    "- Our goal is given samples from X and y, try to find estimates $\\hat{\\beta}_{0}$ and $\\hat{\\beta}_{1}$ for population parameters $\\beta_{0}$ and  $\\beta_{1}$\n",
    "- Once we find such estimates we can use them for future predictions: $\\hat{\\beta}_{0}$ and $\\hat{\\beta}_{1}$ we will make a prediction:\n",
    "\n",
    "$$ \\hat{y}_{i} = \\hat{\\beta}_{0} + \\hat{\\beta}_{1} x_{1} $$\n",
    "\n",
    "<img src=\"visuals/best_fit.png\" cap=\"Transformed dataset\"  width='300'/>"
   ]
  },
  {
   "cell_type": "markdown",
   "metadata": {},
   "source": [
    "## Using Sklearn for simple linear regression\n",
    "\n",
    "- Fitting a regression model is very easy with python. \n",
    "\n",
    "- All we have to do is importing LinearRegression class from sklearn.linear_model module\n",
    "\n",
    "- For more details and examples of implementation you can check:\n",
    "\n",
    "[Sklearn Linear Regression](https://scikit-learn.org/stable/modules/generated/sklearn.linear_model.LinearRegression.html#sklearn.linear_model.LinearRegression)\n",
    "\n",
    "__Your Turn!__\n",
    "\n",
    "- Now using 'tv' and 'Sales' try to fit a linear model with sklearn. Find the corresponding intercept and slope values."
   ]
  },
  {
   "cell_type": "code",
   "execution_count": 25,
   "metadata": {},
   "outputs": [],
   "source": [
    "X = data.TV.values\n",
    "y = data.Sales.values"
   ]
  },
  {
   "cell_type": "code",
   "execution_count": 24,
   "metadata": {},
   "outputs": [
    {
     "data": {
      "text/plain": [
       "numpy.ndarray"
      ]
     },
     "execution_count": 24,
     "metadata": {},
     "output_type": "execute_result"
    }
   ],
   "source": [
    "type(X[0])"
   ]
  },
  {
   "cell_type": "code",
   "execution_count": 21,
   "metadata": {},
   "outputs": [
    {
     "data": {
      "text/plain": [
       "(200,)"
      ]
     },
     "execution_count": 21,
     "metadata": {},
     "output_type": "execute_result"
    }
   ],
   "source": [
    "X.shape"
   ]
  },
  {
   "cell_type": "code",
   "execution_count": 27,
   "metadata": {},
   "outputs": [
    {
     "data": {
      "text/plain": [
       "array([230.1,  44.5,  17.2, 151.5, 180.8,   8.7,  57.5, 120.2,   8.6,\n",
       "       199.8])"
      ]
     },
     "execution_count": 27,
     "metadata": {},
     "output_type": "execute_result"
    }
   ],
   "source": [
    "X[:10]"
   ]
  },
  {
   "cell_type": "code",
   "execution_count": 28,
   "metadata": {},
   "outputs": [
    {
     "data": {
      "text/plain": [
       "(200, 1)"
      ]
     },
     "execution_count": 28,
     "metadata": {},
     "output_type": "execute_result"
    }
   ],
   "source": [
    "X = X.reshape(-1, 1)\n",
    "\n",
    "X.shape"
   ]
  },
  {
   "cell_type": "code",
   "execution_count": 29,
   "metadata": {},
   "outputs": [
    {
     "data": {
      "text/plain": [
       "array([[230.1],\n",
       "       [ 44.5],\n",
       "       [ 17.2],\n",
       "       [151.5],\n",
       "       [180.8],\n",
       "       [  8.7],\n",
       "       [ 57.5],\n",
       "       [120.2],\n",
       "       [  8.6],\n",
       "       [199.8]])"
      ]
     },
     "execution_count": 29,
     "metadata": {},
     "output_type": "execute_result"
    }
   ],
   "source": [
    "X[:10]"
   ]
  },
  {
   "cell_type": "code",
   "execution_count": 31,
   "metadata": {},
   "outputs": [],
   "source": [
    "# import LinearRegression class\n",
    "from sklearn.linear_model import LinearRegression"
   ]
  },
  {
   "cell_type": "code",
   "execution_count": 36,
   "metadata": {},
   "outputs": [
    {
     "data": {
      "text/plain": [
       "LinearRegression(copy_X=True, fit_intercept=True, n_jobs=None, normalize=False)"
      ]
     },
     "execution_count": 36,
     "metadata": {},
     "output_type": "execute_result"
    }
   ],
   "source": [
    "# instantiate the class\n",
    "lr = LinearRegression()\n",
    "# check parameters\n"
   ]
  },
  {
   "cell_type": "code",
   "execution_count": 34,
   "metadata": {},
   "outputs": [
    {
     "name": "stdout",
     "output_type": "stream",
     "text": [
      "Shape of X before reshape: (200, 1)\n"
     ]
    }
   ],
   "source": [
    "# now fit the data.  \n",
    "print('Shape of X before reshape:', X.shape)\n"
   ]
  },
  {
   "cell_type": "code",
   "execution_count": 35,
   "metadata": {},
   "outputs": [
    {
     "name": "stdout",
     "output_type": "stream",
     "text": [
      "Shape of X after reshape: (200, 1)\n"
     ]
    }
   ],
   "source": [
    "# a reshape may be necessary\n",
    "print('Shape of X after reshape:', X.shape)\n"
   ]
  },
  {
   "cell_type": "code",
   "execution_count": 37,
   "metadata": {},
   "outputs": [
    {
     "data": {
      "text/plain": [
       "LinearRegression(copy_X=True, fit_intercept=True, n_jobs=None, normalize=False)"
      ]
     },
     "execution_count": 37,
     "metadata": {},
     "output_type": "execute_result"
    }
   ],
   "source": [
    "# when you fit model learns b0_hat and b1_hat\n",
    "lr.fit(X,y)"
   ]
  },
  {
   "cell_type": "code",
   "execution_count": 38,
   "metadata": {},
   "outputs": [
    {
     "data": {
      "text/plain": [
       "array([0.04753664])"
      ]
     },
     "execution_count": 38,
     "metadata": {},
     "output_type": "execute_result"
    }
   ],
   "source": [
    "# now we can use fitted object to get model parameters\n",
    "lr.coef_"
   ]
  },
  {
   "cell_type": "code",
   "execution_count": 39,
   "metadata": {},
   "outputs": [
    {
     "data": {
      "text/plain": [
       "7.032593549127693"
      ]
     },
     "execution_count": 39,
     "metadata": {},
     "output_type": "execute_result"
    }
   ],
   "source": [
    "lr.intercept_"
   ]
  },
  {
   "cell_type": "markdown",
   "metadata": {},
   "source": [
    "## How do we find an estimator? Least Squares method.\n",
    "<a name=\"least_squares\">\n",
    "</a>\n",
    "\n",
    "__Q: How to find 'best' line?__\n",
    "\n",
    "\n",
    "<img src=\"visuals/errors.png\" cap=\"Transformed dataset\"  width='500'/>\n",
    "\n",
    "\n",
    "\n",
    "* Recall that we know actual values $y$ for the sales and for given coefficients $\\beta_{0}, \\beta_{1}$ we can make a prediction $\\hat{y}$. \n",
    "\n",
    "* Error for each prediction $e_{i} = y_{i} - \\hat{y_{i}}$"
   ]
  },
  {
   "cell_type": "markdown",
   "metadata": {},
   "source": [
    "### Residual sum of squares (RSS)\n",
    "\n",
    "\n",
    "$$RSS = e_{1}^{2} + e_{2}^{2} + \\cdots + e_{n}^{2}$$\n",
    "\n",
    "* Wait a minute! Why do we get the squares?\n",
    "\n",
    "\n",
    "The least square method minimizes the RSS.\n",
    "\n",
    "* Good news: The least square can be calculated exactly because it has a closed form:\n",
    "\n",
    "$$ \\mbox{RSS} = (y_1 - \\hat{b}_{0} -\\hat{b}_{1}x_{1} )^{2} + (y_2 - \\hat{b}_{0} -\\hat{b}_{1}x_{2} )^{2} + \\cdots + (y_n -\\hat{b}_{0} -\\hat{b}_{1}x_{n} )^{2}$$\n",
    "\n",
    "* Bad news: It requires derivatives and is complicated to derive. But no worries, python will take care of this step for us.\n",
    "\n",
    "$$ \\hat{b}_{1} = \\dfrac{\\sum^{n}_{i=1} (x_i - \\bar{x})(y_{i}-\\bar{y})}{\\sum^{n}_{i=1} (x_i - \\bar{x})^{2}}$$\n",
    "\n",
    "and \n",
    "\n",
    "$$ \\hat{b}_{0} = \\bar{y} - \\hat{b}_{1}\\bar{x} $$\n",
    "\n",
    "- __Note:__ In the literature you might see some variants of RSS: Some of which are:\n",
    "\n",
    "$$ \\mbox{Mean Squared Errors (MSE)} = \\frac{1}{N} \\mbox{RSS}$$\n",
    "\n",
    "$$ \\mbox{Root Mean Squared Errors (RMSE)} = \\sqrt{\\frac{1}{N} \\mbox{RSS}} $$\n",
    "\n",
    "[Least Squares Visualized](https://phet.colorado.edu/sims/html/least-squares-regression/latest/least-squares-regression_en.html)"
   ]
  },
  {
   "cell_type": "markdown",
   "metadata": {},
   "source": [
    "__Your Turn!__ (Together)\n",
    "\n",
    "Write a function that for given X, y data it returns $\\hat{b}_{0}$ and $\\hat{b}_{1}$ and RSS for this data. Compare the results with sklearn's results.\n",
    "\n",
    "Reminder:\n",
    "\n",
    "$$ \\hat{b}_{1} = \\dfrac{\\sum^{n}_{i=1} (x_i - \\bar{x})(y_{i}-\\bar{y})}{\\sum^{n}_{i=1} (x_i - \\bar{x})^{2}}$$"
   ]
  },
  {
   "cell_type": "code",
   "execution_count": 55,
   "metadata": {
    "scrolled": true
   },
   "outputs": [],
   "source": [
    "def least_squares(X, y):\n",
    "    numerator = ((X - X.mean()) * (y - y.mean())).sum()\n",
    "    denominator = ((X - X.mean())**2).sum()\n",
    "    b_1 = (numerator/denominator)\n",
    "    b_0 = y.mean() - b_1*X.mean()\n",
    "    rss = ((y - b_0 - b_1 * X) **2).sum()\n",
    "    return (b_1,b_0,rss)"
   ]
  },
  {
   "cell_type": "code",
   "execution_count": 56,
   "metadata": {},
   "outputs": [
    {
     "data": {
      "text/plain": [
       "(0.047536640433019736, 7.0325935491276965, 2102.5305831313512)"
      ]
     },
     "execution_count": 56,
     "metadata": {},
     "output_type": "execute_result"
    }
   ],
   "source": [
    "least_squares(X,y)"
   ]
  },
  {
   "cell_type": "code",
   "execution_count": 46,
   "metadata": {},
   "outputs": [],
   "source": [
    "X=X.reshape(-1)"
   ]
  },
  {
   "cell_type": "code",
   "execution_count": null,
   "metadata": {},
   "outputs": [],
   "source": [
    "least_squares(X, y)\n",
    "\n",
    "# returns b0, b1 and RSS"
   ]
  },
  {
   "cell_type": "markdown",
   "metadata": {},
   "source": [
    "Now use statsmodel or sklearn to compare results."
   ]
  },
  {
   "cell_type": "code",
   "execution_count": null,
   "metadata": {},
   "outputs": [],
   "source": [
    "X = X.reshape(-1,1)"
   ]
  },
  {
   "cell_type": "code",
   "execution_count": null,
   "metadata": {},
   "outputs": [],
   "source": [
    "lr = LinearRegression()\n",
    "\n",
    "lr.fit(X,y)\n",
    "print(lr.intercept_, lr.coef_)"
   ]
  },
  {
   "cell_type": "code",
   "execution_count": null,
   "metadata": {},
   "outputs": [],
   "source": [
    "# let's use draw_line again for the given estimates."
   ]
  },
  {
   "cell_type": "code",
   "execution_count": null,
   "metadata": {},
   "outputs": [],
   "source": [
    "draw_line(X, y, intercept= , slope= )"
   ]
  },
  {
   "cell_type": "markdown",
   "metadata": {},
   "source": [
    "## Linear Regression with Statsmodel\n",
    "\n",
    "There is another library that we can use for linear models which is Statsmodel.\n",
    "\n",
    "- [check the documentation](http://www.statsmodels.org/devel/generated/statsmodels.regression.linear_model.OLS.html#statsmodels.regression.linear_model.OLS)\n",
    "\n",
    "- Now let's use statsmodel to fit a linear model to our data."
   ]
  },
  {
   "cell_type": "code",
   "execution_count": null,
   "metadata": {},
   "outputs": [],
   "source": [
    "import statsmodels.api as sm"
   ]
  },
  {
   "cell_type": "markdown",
   "metadata": {},
   "source": [
    "__Your Turn__\n",
    "\n",
    "- Try to use statsmodel library to fit a line to the advertising dataset."
   ]
  },
  {
   "cell_type": "code",
   "execution_count": null,
   "metadata": {},
   "outputs": [],
   "source": [
    "data"
   ]
  }
 ],
 "metadata": {
  "kernelspec": {
   "display_name": "Python 3",
   "language": "python",
   "name": "python3"
  },
  "language_info": {
   "codemirror_mode": {
    "name": "ipython",
    "version": 3
   },
   "file_extension": ".py",
   "mimetype": "text/x-python",
   "name": "python",
   "nbconvert_exporter": "python",
   "pygments_lexer": "ipython3",
   "version": "3.7.6"
  },
  "toc": {
   "base_numbering": 1,
   "nav_menu": {},
   "number_sections": true,
   "sideBar": true,
   "skip_h1_title": false,
   "title_cell": "Table of Contents",
   "title_sidebar": "Contents",
   "toc_cell": false,
   "toc_position": {},
   "toc_section_display": true,
   "toc_window_display": false
  }
 },
 "nbformat": 4,
 "nbformat_minor": 2
}
